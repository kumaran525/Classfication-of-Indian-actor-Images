{
 "cells": [
  {
   "cell_type": "code",
   "execution_count": 2,
   "id": "af4ac7cc",
   "metadata": {},
   "outputs": [],
   "source": [
    "from tensorflow.keras.layers import Dense,Dropout\n",
    "from tensorflow.keras.models import Sequential\n",
    "from ipynb.fs.full.utils import CLASS_NAMES"
   ]
  },
  {
   "cell_type": "code",
   "execution_count": 1,
   "id": "19437a39",
   "metadata": {},
   "outputs": [],
   "source": [
    "def dnn(input_shape):\n",
    "    model = Sequential(name='dnn')\n",
    "    model.add(Dense(1024, input_dim=input_shape, activation='relu'))\n",
    "    model.add(Dense(512, input_dim=input_shape, activation='relu'))\n",
    "    model.add(Dropout(0.2))\n",
    "    model.add(Dense(256, input_dim=input_shape, activation='relu'))\n",
    "    model.add(Dropout(0.2))\n",
    "    model.add(Dense(len(CLASS_NAMES), activation='softmax'))\n",
    "\n",
    "    model.compile(loss='categorical_crossentropy',\n",
    "                  optimizer='adam',\n",
    "                  metrics=['accuracy'])\n",
    "    return model"
   ]
  },
  {
   "cell_type": "code",
   "execution_count": null,
   "id": "e3e8688b",
   "metadata": {},
   "outputs": [],
   "source": []
  }
 ],
 "metadata": {
  "kernelspec": {
   "display_name": "Python 3 (ipykernel)",
   "language": "python",
   "name": "python3"
  },
  "language_info": {
   "codemirror_mode": {
    "name": "ipython",
    "version": 3
   },
   "file_extension": ".py",
   "mimetype": "text/x-python",
   "name": "python",
   "nbconvert_exporter": "python",
   "pygments_lexer": "ipython3",
   "version": "3.10.9"
  }
 },
 "nbformat": 4,
 "nbformat_minor": 5
}
