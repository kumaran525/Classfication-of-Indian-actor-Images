{
 "cells": [
  {
   "cell_type": "code",
   "execution_count": 1,
   "id": "fecf783e",
   "metadata": {},
   "outputs": [],
   "source": [
    "from tensorflow.keras.models import Sequential\n",
    "from tensorflow.keras.layers import Conv2D, Activation, MaxPooling2D, Flatten, Dense, Dropout\n",
    "from ipynb.fs.full.utils import CLASS_NAMES\n",
    "from tensorflow.keras.wrappers.scikit_learn import KerasClassifier\n",
    "from sklearn.model_selection import GridSearchCV"
   ]
  },
  {
   "cell_type": "code",
   "execution_count": 2,
   "id": "e3a062fa",
   "metadata": {},
   "outputs": [],
   "source": [
    "# def cnn(input_shape,X_train, y_train):\n",
    "#     param_grid = {\n",
    "#     'input_shape' : [input_shape],\n",
    "#     'optimizer': ['adam', 'sgd'],\n",
    "#     'num_kernels': [32, 64],\n",
    "#     'kernel_size': [(3, 3), (5, 5)],\n",
    "#     'activation': ['relu', 'sigmoid'],\n",
    "#     'drop_out':[0.1,0.2,0.3,0.4]}\n",
    "\n",
    "#     keras_model = KerasClassifier(build_fn=create_model)\n",
    "\n",
    "\n",
    "#     grid = GridSearchCV(estimator=keras_model, param_grid=param_grid, scoring='accuracy', cv=3)\n",
    "#     grid_result = grid.fit(X_train, y_train)\n",
    "    \n",
    "#     best_params = grid_result.best_params_\n",
    "\n",
    "#     # Create the best model using the best hyperparameters\n",
    "#     best_model = grid_result.best_estimator_\n",
    "    \n",
    "#     return best_model\n",
    "    \n"
   ]
  },
  {
   "cell_type": "code",
   "execution_count": 3,
   "id": "499055f3",
   "metadata": {},
   "outputs": [],
   "source": [
    "def cnn(input_shape,optimizer='adam', num_kernels=64, kernel_size=(3, 3), activation='relu',drop_out=0.2):\n",
    "    model = Sequential(name='cnn')\n",
    "    model.add(Conv2D(num_kernels, kernel_size, input_shape=input_shape))\n",
    "    model.add(Activation(activation))\n",
    "    model.add(MaxPooling2D(pool_size=(2, 2)))\n",
    "    \n",
    "    model.add(Conv2D(num_kernels, kernel_size))\n",
    "    model.add(Activation(activation))\n",
    "    model.add(MaxPooling2D(pool_size=(2, 2)))\n",
    "    \n",
    "    model.add(Conv2D(num_kernels, kernel_size))\n",
    "    model.add(Activation(activation))\n",
    "    model.add(MaxPooling2D(pool_size=(2, 2)))\n",
    "    \n",
    "    \n",
    "    model.add(Flatten())\n",
    "    model.add(Dense(256))\n",
    "    model.add(Activation(activation))\n",
    "    model.add(Dropout(drop_out))\n",
    "    model.add(Dense(len(CLASS_NAMES)))\n",
    "    model.add(Activation('softmax'))\n",
    "\n",
    "    model.compile(loss='categorical_crossentropy',\n",
    "                  optimizer=optimizer,\n",
    "                  metrics=['accuracy'])\n",
    "    return model\n",
    "    "
   ]
  },
  {
   "cell_type": "code",
   "execution_count": null,
   "id": "9aa79663",
   "metadata": {},
   "outputs": [],
   "source": []
  },
  {
   "cell_type": "code",
   "execution_count": null,
   "id": "cea37fdc",
   "metadata": {},
   "outputs": [],
   "source": []
  },
  {
   "cell_type": "code",
   "execution_count": null,
   "id": "da2d6fbd",
   "metadata": {},
   "outputs": [],
   "source": []
  },
  {
   "cell_type": "code",
   "execution_count": null,
   "id": "d6ee280e",
   "metadata": {},
   "outputs": [],
   "source": []
  },
  {
   "cell_type": "code",
   "execution_count": null,
   "id": "e4df3e7b",
   "metadata": {},
   "outputs": [],
   "source": []
  },
  {
   "cell_type": "code",
   "execution_count": null,
   "id": "af10c07a",
   "metadata": {},
   "outputs": [],
   "source": []
  }
 ],
 "metadata": {
  "kernelspec": {
   "display_name": "Python 3 (ipykernel)",
   "language": "python",
   "name": "python3"
  },
  "language_info": {
   "codemirror_mode": {
    "name": "ipython",
    "version": 3
   },
   "file_extension": ".py",
   "mimetype": "text/x-python",
   "name": "python",
   "nbconvert_exporter": "python",
   "pygments_lexer": "ipython3",
   "version": "3.10.9"
  }
 },
 "nbformat": 4,
 "nbformat_minor": 5
}
