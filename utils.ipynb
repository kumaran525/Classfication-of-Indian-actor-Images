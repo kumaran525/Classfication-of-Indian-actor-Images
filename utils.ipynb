{
 "cells": [
  {
   "cell_type": "code",
   "execution_count": 6,
   "id": "4635734e",
   "metadata": {},
   "outputs": [],
   "source": [
    "import os\n",
    "\n",
    "os.environ['TF_CPP_MIN_LOG_LEVEL'] = '3'\n",
    "import random\n",
    "import tensorflow as tf\n",
    "from tensorflow.python.keras import backend as k\n",
    "import os\n",
    "import numpy as np\n",
    "from matplotlib import pyplot as plt\n",
    "import seaborn as sbn\n",
    "import pandas as pd\n",
    "from sklearn.metrics import roc_curve, auc\n",
    "\n",
    "\n",
    "CLASS_NAMES = os.listdir(\"Picked_data/\")\n",
    "CLASS_NAMES.remove('.DS_Store')"
   ]
  },
  {
   "cell_type": "code",
   "execution_count": 7,
   "id": "64088ca7",
   "metadata": {},
   "outputs": [],
   "source": [
    "def resetRandom():\n",
    "    seed = 1\n",
    "    os.environ['PYTHONHASHSEED'] = str(seed)\n",
    "    random.seed(seed)\n",
    "    np.random.seed(seed)\n",
    "    tf.compat.v1.random.set_random_seed(seed)\n",
    "    session_conf = tf.compat.v1.ConfigProto(intra_op_parallelism_threads=1, inter_op_parallelism_threads=1)\n",
    "    tf.compat.v1.set_random_seed(seed)\n",
    "    sess = tf.compat.v1.Session(graph=tf.compat.v1.get_default_graph(), config=session_conf)\n",
    "    k.set_session(sess)"
   ]
  },
  {
   "cell_type": "code",
   "execution_count": 8,
   "id": "1ad9d3c0",
   "metadata": {},
   "outputs": [],
   "source": [
    "def makedirs(*args):\n",
    "    for arg in args:\n",
    "        os.makedirs(arg, exist_ok=True)"
   ]
  },
  {
   "cell_type": "code",
   "execution_count": 9,
   "id": "4442af12",
   "metadata": {},
   "outputs": [],
   "source": [
    "def plot_conf_matrix(conf_mat, fe, cls, labels, path):\n",
    "    fig, ax = plt.subplots(figsize=(25,15))\n",
    "    sbn.heatmap(conf_mat, annot=True, annot_kws={\"size\": 10}, linewidths=0.5, fmt='d',\n",
    "                yticklabels=labels, xticklabels=labels, cmap='Blues')\n",
    "    plt.xlabel('Actual Class', labelpad=15)\n",
    "    plt.ylabel('Predicted Class', labelpad=15)\n",
    "    labels = [\"Feature = {0}\".format(fe), \"Classifier = {0}\".format(cls)]\n",
    "    trans = ax.get_xaxis_transform()\n",
    "    ax.annotate('\\n'.join(labels), xy=(12, 0.5), xycoords=trans, size=17, ha='left', va='baseline',\n",
    "                bbox=dict(boxstyle='round', fc='w'))\n",
    "    plt.savefig(path, bbox_inches=\"tight\")\n",
    "    plt.close()\n",
    "    plt.clf()\n",
    "  \n"
   ]
  },
  {
   "cell_type": "code",
   "execution_count": 10,
   "id": "74191526",
   "metadata": {},
   "outputs": [],
   "source": [
    "def plot_roc_curve(y, pred, fe, cls, results_dir):\n",
    "    n_classes = len(CLASS_NAMES)\n",
    "    fpr = dict()\n",
    "    tpr = dict()\n",
    "    roc_auc = dict()\n",
    "    for i in range(n_classes):\n",
    "        fpr[i], tpr[i], _ = roc_curve(np.array(pd.get_dummies(y))[:, i], np.array(pd.get_dummies(pred))[:, i])\n",
    "        roc_auc[i] = auc(fpr[i], tpr[i])\n",
    "    all_fpr = np.unique(np.concatenate([fpr[i] for i in range(n_classes)]))\n",
    "    mean_tpr = np.zeros_like(all_fpr)\n",
    "    for i in range(n_classes):\n",
    "        mean_tpr += np.interp(all_fpr, fpr[i], tpr[i])\n",
    "    mean_tpr /= n_classes\n",
    "    fpr[\"macro\"] = all_fpr\n",
    "    tpr[\"macro\"] = mean_tpr\n",
    "    roc_auc[\"macro\"] = auc(fpr[\"macro\"], tpr[\"macro\"])\n",
    "    fig, ax = plt.subplots(figsize=(25, 15))\n",
    "    plt.plot(fpr['macro'], tpr['macro'], color='orange', label='AUC = {0}'.format(roc_auc['macro']))\n",
    "    plt.plot([0, 1], [np.min(tpr['macro']), 1], color='darkblue', linestyle='--')\n",
    "    plt.xlabel('False Positive Rate')\n",
    "    plt.ylabel('True Positive Rate')\n",
    "    plt.legend()\n",
    "    plt.title('Receiver Operating Characteristic (ROC) Curve')\n",
    "    labels = [\"Feature = {0}\".format(fe), \"Classifier = {0}\".format(cls)]\n",
    "    trans = ax.get_xaxis_transform()\n",
    "    ax.annotate('\\n'.join(labels), xy=(1.06, 0.5), xycoords=trans, size=14, ha='left', va='baseline',\n",
    "                bbox=dict(boxstyle='round', fc='w'))\n",
    "    path = os.path.join(results_dir, '{0}_{1}_roc_curve.png'.format(fe, cls))\n",
    "    plt.savefig(path, bbox_inches=\"tight\")\n",
    "    plt.clf()\n",
    "    plt.close()\n"
   ]
  },
  {
   "cell_type": "code",
   "execution_count": null,
   "id": "87fd47ed",
   "metadata": {},
   "outputs": [],
   "source": []
  },
  {
   "cell_type": "code",
   "execution_count": null,
   "id": "f995655d",
   "metadata": {},
   "outputs": [],
   "source": []
  },
  {
   "cell_type": "code",
   "execution_count": null,
   "id": "4d60c940",
   "metadata": {},
   "outputs": [],
   "source": []
  }
 ],
 "metadata": {
  "kernelspec": {
   "display_name": "Python 3 (ipykernel)",
   "language": "python",
   "name": "python3"
  },
  "language_info": {
   "codemirror_mode": {
    "name": "ipython",
    "version": 3
   },
   "file_extension": ".py",
   "mimetype": "text/x-python",
   "name": "python",
   "nbconvert_exporter": "python",
   "pygments_lexer": "ipython3",
   "version": "3.10.9"
  }
 },
 "nbformat": 4,
 "nbformat_minor": 5
}
